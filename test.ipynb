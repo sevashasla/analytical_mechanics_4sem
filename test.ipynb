{
 "cells": [
  {
   "cell_type": "code",
   "execution_count": 108,
   "metadata": {},
   "outputs": [],
   "source": [
    "import numpy as np\n",
    "import scipy as sp\n",
    "from scipy import optimize as op\n",
    "from scipy import linalg\n",
    "import math\n",
    "from copy import deepcopy\n",
    "import matplotlib.pyplot as plt\n",
    "# from sympy import symbols, Matrix # not used???"
   ]
  },
  {
   "cell_type": "code",
   "execution_count": null,
   "metadata": {},
   "outputs": [],
   "source": [
    "# https://docs.scipy.org/doc/scipy/reference/generated/scipy.integrate.odeint.html"
   ]
  },
  {
   "cell_type": "code",
   "execution_count": 220,
   "metadata": {},
   "outputs": [],
   "source": [
    "class Solution:\n",
    "    def __init__(self, m, c, b, eps=1e-3, \n",
    "    real_start=-10, real_end=10, \n",
    "    imag_start=-10, imag_end=10):\n",
    "        self.b_ = b / m\n",
    "        self.c_ = c / m\n",
    "        self.roots = None\n",
    "        self.order = 5\n",
    "        self.eps = eps\n",
    "\n",
    "        self.real_start = real_start\n",
    "        self.real_end = real_end\n",
    "        self.imag_start = imag_start\n",
    "        self.imag_end = imag_end\n",
    "\n",
    "        self.A = np.eye(4, dtype=np.complex)\n",
    "        self.B = np.zeros((4, 4), dtype=np.complex); self.B[0, 0] = self.b_\n",
    "        self.C = np.array([\n",
    "            [2, -1, 0, -1],\n",
    "            [-1, 2, -1, 0],\n",
    "            [0, -1, 2, -1],\n",
    "            [-1, 0, -1, 2]\n",
    "        ], dtype=np.complex) * self.c_\n",
    "\n",
    "\n",
    "    def __call__(self, x):\n",
    "        x = complex(x[0], x[1])\n",
    "        result = self.b_ * (2 * self.c_ ** 2 + 4 * self.c_ * x ** 2 + x ** 4) +\\\n",
    "             8 * self.c_ ** 2 * x + 6 * self.c_ * x ** 3 + x ** 5\n",
    "        return result.real, result.imag\n",
    "\n",
    "    def __clear_roots(self):\n",
    "        # I don't know better algorithm.\n",
    "        # Just O(n^2)\n",
    "        # faster will be find connectivity components!!!\n",
    "        # distances = self.roots.reshape(-1, 1) - self.roots\n",
    "        # equal = abs(distances) < self.eps\n",
    "\n",
    "        self.roots = np.array(self.roots)\n",
    "\n",
    "        use = np.ones_like(self.roots, dtype=np.bool)\n",
    "\n",
    "        for i in range(len(self.roots)):\n",
    "            if use[i] == False:\n",
    "                continue\n",
    "            for j in range(len(self.roots)):\n",
    "                if i == j:\n",
    "                    continue\n",
    "                if abs(self.roots[i] - self.roots[j]) < self.eps:\n",
    "                    use[j] = False\n",
    "\n",
    "        self.roots = self.roots[use]\n",
    "\n",
    "\n",
    "    def find_roots(self):\n",
    "        if self.roots is None:\n",
    "            self.roots = []\n",
    "        else:\n",
    "            return deepcopy(self.roots)\n",
    "\n",
    "        real = range(self.real_start, self.real_end, 1)\n",
    "        imag = range(self.imag_start, self.imag_end, 1)\n",
    "\n",
    "        for r in real:\n",
    "            for im in imag:\n",
    "                root = op.root(self, [r, im])\n",
    "                self.roots.append(complex(*root.x))\n",
    "        self.__clear_roots()\n",
    "\n",
    "        # can find theoretically\n",
    "        self.roots = np.append(self.roots, (\n",
    "            0, \n",
    "            complex(0, self.c_ * np.sqrt(2)), \n",
    "            complex(0, -self.c_ * np.sqrt(2)))\n",
    "        )\n",
    "\n",
    "        return deepcopy(self.roots)\n",
    "\n",
    "    def get_eigen_vectors(self, lambd, rcond=1e-3):\n",
    "        charact_matr = self.A * lambd ** 2 + self.B * lambd + self.C\n",
    "        eigenvector = linalg.null_space(charact_matr, rcond=rcond)\n",
    "        return eigenvector\n",
    "\n",
    "    def find_eigen_vectors(self):\n",
    "        self.vectors = []\n",
    "        for lambd in self.roots:\n",
    "            vec = self.get_eigen_vectors(lambd).squeeze()\n",
    "            self.vectors.append(vec)\n",
    "        self.vectors = np.array(self.vectors)\n",
    "\n",
    "    def find_solution_coeffs(self, q_0):\n",
    "        # now I have equation\n",
    "        # q(t) = c_1 h_1 exp(lambda_1 * t) + ... + c_8 h_8 exp(lambda_8 * t)\n",
    "        # and I should find the c_1, ..., c_8\n",
    "        # I suppose that q_i = 0 forall i\n",
    "\n",
    "        self.find_eigen_vectors()\n",
    "\n",
    "        # find the equation matrix\n",
    "        first_part = deepcopy(self.vectors).T\n",
    "        second_part = self.roots * first_part\n",
    "        eq_matr = np.vstack((first_part, second_part))\n",
    "\n",
    "        # find q_0\n",
    "        q_0 = np.array(q_0).reshape(-1, 1)\n",
    "        q_0 = np.vstack((q_0, np.zeros((first_part.shape[0], 1))))\n",
    "\n",
    "        # find constants\n",
    "        self.constants = linalg.solve(eq_matr, q_0)\n",
    "\n",
    "    def solve(self, *args, **kwargs):\n",
    "        self.find_roots()\n",
    "        self.find_solution_coeffs(*args, **kwargs)\n",
    "    \n",
    "    def q(self, t, eps=1e-3):\n",
    "        coords_ = np.zeros(4, dtype=complex)\n",
    "        for i in range(len(self.roots)):\n",
    "            coords_ += self.constants[i] * self.vectors[i] * np.exp(t * self.roots[i])\n",
    "        return coords_\n",
    "\n",
    "# eq = Solution(1, 1, 1)\n",
    "# eq.find_roots()\n",
    "\n",
    "# for root in eq.find_roots():\n",
    "    # print(root)\n",
    "    # print(eq.get_eigen_vectors(root))\n",
    "\n",
    "# eq.find_solution_coeffs((1, 0, -1, 0))\n",
    "# eq.q(1)"
   ]
  },
  {
   "cell_type": "code",
   "execution_count": 228,
   "metadata": {},
   "outputs": [],
   "source": [
    "eq = Solution(1, 1, 1)\n",
    "eq.solve((1, 0, -1, 0))\n",
    "\n",
    "times = np.linspace(0, 10, 100)\n",
    "coords = []\n",
    "for t in times:\n",
    "    coords.append(eq.q(t))\n",
    "\n",
    "coords = np.array(coords)"
   ]
  },
  {
   "cell_type": "code",
   "execution_count": 233,
   "metadata": {},
   "outputs": [
    {
     "data": {
      "text/plain": [
       "<matplotlib.collections.PathCollection at 0x7f1c05d7c220>"
      ]
     },
     "execution_count": 233,
     "metadata": {},
     "output_type": "execute_result"
    },
    {
     "data": {
      "image/png": "[encoded data removed]",
      "text/plain": [
       "<Figure size 720x720 with 1 Axes>"
      ]
     },
     "metadata": {
      "needs_background": "light"
     },
     "output_type": "display_data"
    }
   ],
   "source": [
    "fig, ax = plt.subplots()\n",
    "fig.set_figwidth(10)\n",
    "fig.set_figheight(10)\n",
    "\n",
    "plt.scatter(times, np.real(coords[:, 3]))"
   ]
  },
  {
   "cell_type": "markdown",
   "metadata": {},
   "source": [
    "It is integesting to observe how roots depend on $\\beta$. And I also suppose that $\\widehat{c} = 1$."
   ]
  },
  {
   "cell_type": "code",
   "execution_count": 214,
   "metadata": {},
   "outputs": [],
   "source": [
    "# with plt.style.context('seaborn-darkgrid'):?\n",
    "m = 1\n",
    "c = 1\n",
    "\n",
    "roots = []\n",
    "\n",
    "for beta in np.linspace(0, 5, 15):\n",
    "    eq = Solution(m, beta, c)\n",
    "    curr_roots = eq.find_roots()\n",
    "    for root in curr_roots:\n",
    "        roots.append((beta, root))\n",
    "\n",
    "roots = np.array(roots)"
   ]
  },
  {
   "cell_type": "code",
   "execution_count": 215,
   "metadata": {},
   "outputs": [
    {
     "name": "stderr",
     "output_type": "stream",
     "text": [
      "/usr/lib/python3/dist-packages/numpy/core/_asarray.py:138: ComplexWarning: Casting complex values to real discards the imaginary part\n",
      "  return array(a, dtype, copy=False, order=order, subok=True)\n"
     ]
    },
    {
     "data": {
      "text/plain": [
       "<matplotlib.collections.PathCollection at 0x7f1c090e6c10>"
      ]
     },
     "execution_count": 215,
     "metadata": {},
     "output_type": "execute_result"
    },
    {
     "data": {
      "image/png": "[encoded data removed]",
      "text/plain": [
       "<Figure size 720x720 with 1 Axes>"
      ]
     },
     "metadata": {
      "needs_background": "light"
     },
     "output_type": "display_data"
    }
   ],
   "source": [
    "fig, ax = plt.subplots()\n",
    "fig.set_figwidth(10)\n",
    "fig.set_figheight(10)\n",
    "ax.scatter(np.real(roots[:, 1]), np.imag(roots[:, 1]), c=(roots[:, 0] + 1))"
   ]
  },
  {
   "cell_type": "code",
   "execution_count": null,
   "metadata": {},
   "outputs": [],
   "source": []
  }
 ],
 "metadata": {
  "interpreter": {
   "hash": "916dbcbb3f70747c44a77c7bcd40155683ae19c65e1c03b4aa3499c5328201f1"
  },
  "kernelspec": {
   "display_name": "Python 3.8.10 64-bit",
   "language": "python",
   "name": "python3"
  },
  "language_info": {
   "codemirror_mode": {
    "name": "ipython",
    "version": 3
   },
   "file_extension": ".py",
   "mimetype": "text/x-python",
   "name": "python",
   "nbconvert_exporter": "python",
   "pygments_lexer": "ipython3",
   "version": "3.8.10"
  },
  "orig_nbformat": 4
 },
 "nbformat": 4,
 "nbformat_minor": 2
}
