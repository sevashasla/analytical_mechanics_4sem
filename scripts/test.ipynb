{
 "cells": [
  {
   "cell_type": "code",
   "execution_count": 1,
   "metadata": {},
   "outputs": [],
   "source": [
    "import numpy as np\n",
    "import scipy as sp\n",
    "from scipy import optimize as op\n",
    "from scipy import linalg\n",
    "import math\n",
    "from copy import deepcopy\n",
    "import matplotlib.pyplot as plt\n",
    "# from sympy import symbols, Matrix # not used???"
   ]
  },
  {
   "cell_type": "code",
   "execution_count": null,
   "metadata": {},
   "outputs": [],
   "source": [
    "# https://docs.scipy.org/doc/scipy/reference/generated/scipy.integrate.odeint.html"
   ]
  },
  {
   "cell_type": "code",
   "execution_count": 39,
   "metadata": {},
   "outputs": [
    {
     "data": {
      "text/plain": [
       "1.1"
      ]
     },
     "execution_count": 39,
     "metadata": {},
     "output_type": "execute_result"
    }
   ],
   "source": [
    "np.round(1.1, 1)"
   ]
  },
  {
   "cell_type": "code",
   "execution_count": 33,
   "metadata": {},
   "outputs": [],
   "source": [
    "class Solution:\n",
    "    def __init__(self, m, c, b, eps=1e-3):\n",
    "        self.b_ = b / m\n",
    "        self.c_ = c / m\n",
    "        self.roots = None\n",
    "        self.order = 5\n",
    "        self.eps = eps\n",
    "\n",
    "    def find_eigen_vectors(self):\n",
    "        '''\n",
    "            A q'' + Bq' + Cq = 0 -> x = q'\n",
    "            q' = x\n",
    "            Ax' + Bx + Cq = 0 and A = I_{4, 4}!\n",
    "            So we get following equation:\n",
    "            [q]'  [0     E][q]\n",
    "            [ ] = [       ][ ]\n",
    "            [x]   [-B   -C][x]\n",
    "        '''\n",
    "        if not self.roots is None:\n",
    "            return deepcopy(self.vectors)\n",
    "\n",
    "        # init matrix B, C\n",
    "        B = np.zeros((4, 4), dtype=np.complex); B[0, 0] = self.b_\n",
    "        C = np.array([\n",
    "            [2, -1, 0, -1],\n",
    "            [-1, 2, -1, 0],\n",
    "            [0, -1, 2, -1],\n",
    "            [-1, 0, -1, 2]\n",
    "        ], dtype=np.complex) * self.c_\n",
    "\n",
    "        # find matrices\n",
    "        first_part = np.hstack((np.zeros((4, 4)), np.eye(4)))\n",
    "        second_part = np.hstack((-C, -B))\n",
    "        equation_matr = np.vstack((first_part, second_part))\n",
    "\n",
    "        # find eigenvectors\n",
    "        self.roots, vec = linalg.eig(equation_matr, np.eye(8), right=True)\n",
    "        self.vectors = vec.T\n",
    "\n",
    "        # we need only vectors for q\n",
    "        self.cutted_vectors = self.vectors[:, :4]\n",
    "        return deepcopy(self.vectors)\n",
    "\n",
    "\n",
    "    def solve(self, q_0):\n",
    "\n",
    "        self.find_eigen_vectors()\n",
    "\n",
    "        # find the equation matrix\n",
    "        eq_matr = deepcopy(self.vectors).T\n",
    "\n",
    "        # find q_0\n",
    "        q_0 = np.array(q_0).reshape(-1, 1)\n",
    "        if q_0.shape[0] == 4:\n",
    "            q_0 = np.vstack((q_0, np.zeros((4, 1))))\n",
    "\n",
    "        print(q_0.shape)\n",
    "        print(eq_matr.shape)\n",
    "        # find constants\n",
    "        self.constants = linalg.solve(eq_matr, q_0)\n",
    "\n",
    "    def q(self, t, eps=1e-3):\n",
    "        coords_ = np.zeros(4, dtype=complex)\n",
    "        for i in range(len(self.roots)):\n",
    "            coords_ += self.constants[i] * self.cutted_vectors[i] * np.exp(t * self.roots[i])\n",
    "        return coords_\n",
    "\n",
    "# eq = Solution(1, 0.5, 2)\n",
    "# eq.solve((1, 0, -1, 0))"
   ]
  },
  {
   "cell_type": "code",
   "execution_count": 34,
   "metadata": {},
   "outputs": [
    {
     "name": "stdout",
     "output_type": "stream",
     "text": [
      "(8, 1)\n",
      "(8, 8)\n"
     ]
    }
   ],
   "source": [
    "eq = Solution(1, 0.5, 2)\n",
    "eq.solve((1, 0, -1, 0))\n",
    "\n",
    "times = np.linspace(0, 10, 100)\n",
    "coords = []\n",
    "for t in times:\n",
    "    coords.append(eq.q(t))\n",
    "\n",
    "coords = np.array(coords)"
   ]
  },
  {
   "cell_type": "code",
   "execution_count": 38,
   "metadata": {},
   "outputs": [
    {
     "data": {
      "text/plain": [
       "<matplotlib.collections.PathCollection at 0x7fa9c8443760>"
      ]
     },
     "execution_count": 38,
     "metadata": {},
     "output_type": "execute_result"
    },
    {
     "data": {
      "image/png": "[encoded data removed]",
      "text/plain": [
       "<Figure size 720x720 with 1 Axes>"
      ]
     },
     "metadata": {
      "needs_background": "light"
     },
     "output_type": "display_data"
    }
   ],
   "source": [
    "fig, ax = plt.subplots()\n",
    "fig.set_figwidth(10)\n",
    "fig.set_figheight(10)\n",
    "\n",
    "plt.scatter(times, np.real(coords[:, 0]))"
   ]
  },
  {
   "cell_type": "markdown",
   "metadata": {},
   "source": [
    "It is integesting to observe how roots depend on $\\beta$. And I also suppose that $\\widehat{c} = 1$."
   ]
  },
  {
   "cell_type": "code",
   "execution_count": 214,
   "metadata": {},
   "outputs": [],
   "source": [
    "# with plt.style.context('seaborn-darkgrid'):?\n",
    "m = 1\n",
    "c = 1\n",
    "\n",
    "roots = []\n",
    "\n",
    "for beta in np.linspace(0, 5, 15):\n",
    "    eq = Solution(m, beta, c)\n",
    "    curr_roots = eq.find_roots()\n",
    "    for root in curr_roots:\n",
    "        roots.append((beta, root))\n",
    "\n",
    "roots = np.array(roots)"
   ]
  },
  {
   "cell_type": "code",
   "execution_count": 215,
   "metadata": {},
   "outputs": [
    {
     "name": "stderr",
     "output_type": "stream",
     "text": [
      "/usr/lib/python3/dist-packages/numpy/core/_asarray.py:138: ComplexWarning: Casting complex values to real discards the imaginary part\n",
      "  return array(a, dtype, copy=False, order=order, subok=True)\n"
     ]
    },
    {
     "data": {
      "text/plain": [
       "<matplotlib.collections.PathCollection at 0x7f1c090e6c10>"
      ]
     },
     "execution_count": 215,
     "metadata": {},
     "output_type": "execute_result"
    },
    {
     "data": {
      "image/png": "[encoded data removed]",
      "text/plain": [
       "<Figure size 720x720 with 1 Axes>"
      ]
     },
     "metadata": {
      "needs_background": "light"
     },
     "output_type": "display_data"
    }
   ],
   "source": [
    "fig, ax = plt.subplots()\n",
    "fig.set_figwidth(10)\n",
    "fig.set_figheight(10)\n",
    "ax.scatter(np.real(roots[:, 1]), np.imag(roots[:, 1]), c=(roots[:, 0] + 1))"
   ]
  },
  {
   "cell_type": "code",
   "execution_count": null,
   "metadata": {},
   "outputs": [],
   "source": []
  }
 ],
 "metadata": {
  "interpreter": {
   "hash": "916dbcbb3f70747c44a77c7bcd40155683ae19c65e1c03b4aa3499c5328201f1"
  },
  "kernelspec": {
   "display_name": "Python 3.8.10 64-bit",
   "language": "python",
   "name": "python3"
  },
  "language_info": {
   "codemirror_mode": {
    "name": "ipython",
    "version": 3
   },
   "file_extension": ".py",
   "mimetype": "text/x-python",
   "name": "python",
   "nbconvert_exporter": "python",
   "pygments_lexer": "ipython3",
   "version": "3.8.10"
  },
  "orig_nbformat": 4
 },
 "nbformat": 4,
 "nbformat_minor": 2
}
